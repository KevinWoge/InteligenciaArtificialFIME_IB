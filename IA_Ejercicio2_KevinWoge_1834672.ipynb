{
  "nbformat": 4,
  "nbformat_minor": 0,
  "metadata": {
    "colab": {
      "name": "IA_Ejercicio2_KevinWoge_1834672.ipynb",
      "provenance": [],
      "authorship_tag": "ABX9TyM6Pa/zp0Dzf/NrOb0MNG/X",
      "include_colab_link": true
    },
    "kernelspec": {
      "name": "python3",
      "display_name": "Python 3"
    },
    "language_info": {
      "name": "python"
    }
  },
  "cells": [
    {
      "cell_type": "markdown",
      "metadata": {
        "id": "view-in-github",
        "colab_type": "text"
      },
      "source": [
        "<a href=\"https://colab.research.google.com/github/KevinWoge/InteligenciaArtificialFIME_IB/blob/main/IA_Ejercicio2_KevinWoge_1834672.ipynb\" target=\"_parent\"><img src=\"https://colab.research.google.com/assets/colab-badge.svg\" alt=\"Open In Colab\"/></a>"
      ]
    },
    {
      "cell_type": "markdown",
      "metadata": {
        "id": "HfB4-HcIDz5x"
      },
      "source": [
        "**Actividad 2. Ejercicios Introducción Python.**\n",
        "\n",
        "**Kevin Woge Rivera - 1834672**\n",
        "\n",
        "**Hora: N4**\n",
        "\n",
        "**Ejercicio 1:** \n",
        "\n",
        "**1.1** Piensa en 7 comidas diferente que te gusten. Implementa un programa que pregunte por las 7 comidas, las almacene en una lista y que posteriermente imprima cada una de ellas utilizando uno de los ciclos comentados en clase. "
      ]
    },
    {
      "cell_type": "markdown",
      "metadata": {
        "id": "zhVPNsKdF3qQ"
      },
      "source": [
        "* Empezamos inicializando una lista vacía para guardar nuestra lista y pedimos al usuario que ponga su comida favorita."
      ]
    },
    {
      "cell_type": "code",
      "metadata": {
        "colab": {
          "base_uri": "https://localhost:8080/",
          "height": 53
        },
        "id": "4U9GJQc_Dn3Z",
        "outputId": "f170825b-05cf-4a5d-9739-e1079682b13a"
      },
      "source": [
        "comidas = input('Ingrese sus 7 comidas favoritas: ')\n",
        "comidas\n"
      ],
      "execution_count": null,
      "outputs": [
        {
          "name": "stdout",
          "output_type": "stream",
          "text": [
            "Ingrese sus 7 comidas favoritas: Ensalada, Hamburguesa, Pizza, Costillas, Mariscos, Pasta, Pozole\n"
          ]
        },
        {
          "output_type": "execute_result",
          "data": {
            "application/vnd.google.colaboratory.intrinsic+json": {
              "type": "string"
            },
            "text/plain": [
              "'Ensalada, Hamburguesa, Pizza, Costillas, Mariscos, Pasta, Pozole'"
            ]
          },
          "metadata": {},
          "execution_count": 3
        }
      ]
    },
    {
      "cell_type": "markdown",
      "metadata": {
        "id": "E9sSu7xWICZg"
      },
      "source": [
        "* Agregamos una variable para crear un separador y separamos la string para crear una lista."
      ]
    },
    {
      "cell_type": "code",
      "metadata": {
        "colab": {
          "base_uri": "https://localhost:8080/"
        },
        "id": "987-xn_xIZhY",
        "outputId": "e096e2d1-e0d5-48a1-be04-8e74e8f8550c"
      },
      "source": [
        "separador = ', '\n",
        "f_list = comidas.split(separador)\n",
        "f_list"
      ],
      "execution_count": null,
      "outputs": [
        {
          "output_type": "execute_result",
          "data": {
            "text/plain": [
              "['Ensalada',\n",
              " 'Hamburguesa',\n",
              " 'Pizza',\n",
              " 'Costillas',\n",
              " 'Mariscos',\n",
              " 'Pasta',\n",
              " 'Pozole']"
            ]
          },
          "metadata": {},
          "execution_count": 4
        }
      ]
    },
    {
      "cell_type": "markdown",
      "metadata": {
        "id": "w3KDBKP4I6gJ"
      },
      "source": [
        "* Aplicamos un 'for' para imprimir los valores de la lista."
      ]
    },
    {
      "cell_type": "code",
      "metadata": {
        "colab": {
          "base_uri": "https://localhost:8080/"
        },
        "id": "N1RhEWd3JBQB",
        "outputId": "c6dade3e-71a5-473f-fe25-72eafe37b9a6"
      },
      "source": [
        "for comida in f_list:\n",
        "  print(comida)"
      ],
      "execution_count": null,
      "outputs": [
        {
          "output_type": "stream",
          "name": "stdout",
          "text": [
            "Ensalada\n",
            "Hamburguesa\n",
            "Pizza\n",
            "Costillas\n",
            "Mariscos\n",
            "Pasta\n",
            "Pozole\n"
          ]
        }
      ]
    },
    {
      "cell_type": "markdown",
      "metadata": {
        "id": "Ta5Zraf_ipv2"
      },
      "source": [
        "**1.2** Modifica el ejercicio 1.1 para que imprima cada una de las comidas favoritas junto con una oracición inicial: \"Una de mis comidas favoritas es [comida1]\".  \n"
      ]
    },
    {
      "cell_type": "markdown",
      "metadata": {
        "id": "wrrXobHMiuv-"
      },
      "source": [
        "* Aplicamos un 'for' nuevamente, pero añadimos una concatenación para unir 'Una de mis comidas favoritas es: ' con el ciclo."
      ]
    },
    {
      "cell_type": "code",
      "metadata": {
        "colab": {
          "base_uri": "https://localhost:8080/"
        },
        "id": "e-Nob1IabfEv",
        "outputId": "724e8f40-a839-43e0-9806-1b6ccd512968"
      },
      "source": [
        "for comida in f_list:\n",
        "  print('Una de mis comidas favoritas es: ' + comida)\n",
        "  "
      ],
      "execution_count": null,
      "outputs": [
        {
          "output_type": "stream",
          "name": "stdout",
          "text": [
            "Una de mis comidas favoritas es: Ensalada\n",
            "Una de mis comidas favoritas es: Hamburguesa\n",
            "Una de mis comidas favoritas es: Pizza\n",
            "Una de mis comidas favoritas es: Costillas\n",
            "Una de mis comidas favoritas es: Mariscos\n",
            "Una de mis comidas favoritas es: Pasta\n",
            "Una de mis comidas favoritas es: Pozole\n"
          ]
        }
      ]
    },
    {
      "cell_type": "markdown",
      "metadata": {
        "id": "Hc81OxsljF5X"
      },
      "source": [
        "**Ejercicio 2:** Crear un juego de piedra, papel o tijera de dos jugadores. El programa preguntará por la opción del jugador 1 y la opción del jugador 2 y dará como resultado quien ganó el juego."
      ]
    },
    {
      "cell_type": "markdown",
      "metadata": {
        "id": "E4TCFiWdd4zv"
      },
      "source": [
        "* Primero creamos las variables para almacenar el input que nos darán los jugadores."
      ]
    },
    {
      "cell_type": "code",
      "metadata": {
        "colab": {
          "base_uri": "https://localhost:8080/"
        },
        "id": "MdZqkQ8LjL5H",
        "outputId": "501f8d2d-f63b-4769-d9f9-db2899c2018f"
      },
      "source": [
        "jugador1 = input('Ingrese su opción (piedra, papel o tijera): ')\n",
        "jugador2 = input('Ingrese su opción (piedra, papel o tijera): ')"
      ],
      "execution_count": null,
      "outputs": [
        {
          "name": "stdout",
          "output_type": "stream",
          "text": [
            "Ingrese su opción (piedra, papel o tijera): piedra\n",
            "Ingrese su opción (piedra, papel o tijera): papel\n"
          ]
        }
      ]
    },
    {
      "cell_type": "markdown",
      "metadata": {
        "id": "qfZtFJ3FeD75"
      },
      "source": [
        "* Procedemos a crear los condicionales para que, con base en el input dado por los usuarios, el programa evalúe quien es el ganador."
      ]
    },
    {
      "cell_type": "code",
      "metadata": {
        "colab": {
          "base_uri": "https://localhost:8080/"
        },
        "id": "DSbZ9P0OjySn",
        "outputId": "fe662b42-86cd-48a3-be5f-747df52ddd8f"
      },
      "source": [
        "if jugador1 == 'piedra' and jugador2 == 'tijera':\n",
        "  print('El jugador uno es el ganador')\n",
        "elif jugador1 == 'tijera' and jugador2 == 'papel':\n",
        "  print('El jugador uno es el ganador')\n",
        "elif jugador1 == 'papel' and jugador2 == 'piedra':\n",
        "  print('El jugador uno es el ganador')\n",
        "elif jugador2 == 'piedra' and jugador1 == 'tijera':\n",
        "  print('El jugador dos es el ganador')\n",
        "elif jugador2 == 'tijera' and jugador1 == 'papel':\n",
        "  print('El jugador dos es el ganador')\n",
        "elif jugador2 == 'papel' and jugador1 == 'piedra':\n",
        "  print('El jugador dos es el ganador')\n",
        "elif jugador1 == jugador2:\n",
        "  print('Empate')\n",
        "else:\n",
        "  print('Opciones no validas')"
      ],
      "execution_count": null,
      "outputs": [
        {
          "output_type": "stream",
          "name": "stdout",
          "text": [
            "El jugador dos es el ganador\n"
          ]
        }
      ]
    },
    {
      "cell_type": "markdown",
      "metadata": {
        "id": "yb6_wQaRe6mm"
      },
      "source": [
        "**Ejercicio 3:** Implementar un programa que imprima el siguiente patron:\n",
        "\n",
        "123456\n",
        "\n",
        "12345\n",
        "\n",
        "1234\n",
        "\n",
        "123\n",
        "\n",
        "12\n",
        "\n",
        "1\n",
        "\n",
        "12\n",
        "\n",
        "123\n",
        "\n",
        "1234\n",
        "\n",
        "12345\n",
        "\n",
        "123456"
      ]
    },
    {
      "cell_type": "markdown",
      "metadata": {
        "id": "ekJE-AR2jowY"
      },
      "source": [
        "* Comenzamos inicializando la variable que tendrá nuestro primer número, en este caso '123456'."
      ]
    },
    {
      "cell_type": "code",
      "metadata": {
        "id": "6HLgZeDYiD92"
      },
      "source": [
        "num = 123456  "
      ],
      "execution_count": null,
      "outputs": []
    },
    {
      "cell_type": "markdown",
      "metadata": {
        "id": "cseJn9-Kmw9G"
      },
      "source": [
        "* Procedemos a implementar nuestro ciclo condicional e imprimir."
      ]
    },
    {
      "cell_type": "code",
      "metadata": {
        "id": "nzWoH3LQnLGB",
        "colab": {
          "base_uri": "https://localhost:8080/"
        },
        "outputId": "4c758206-2169-4cee-d1be-aeac88232dbc"
      },
      "source": [
        "for n in range(6, 0, -1):\n",
        "  print(num)\n",
        "  num -= n\n",
        "  num //= 10\n",
        "  if num == 1:\n",
        "    for x in range(2, 7):\n",
        "      print(num)\n",
        "      num *= 10\n",
        "      num += x"
      ],
      "execution_count": null,
      "outputs": [
        {
          "output_type": "stream",
          "name": "stdout",
          "text": [
            "123456\n",
            "12345\n",
            "1234\n",
            "123\n",
            "12\n",
            "1\n",
            "12\n",
            "123\n",
            "1234\n",
            "12345\n",
            "123456\n"
          ]
        }
      ]
    }
  ]
}