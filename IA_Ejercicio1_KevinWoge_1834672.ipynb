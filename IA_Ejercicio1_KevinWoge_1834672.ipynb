{
  "nbformat": 4,
  "nbformat_minor": 0,
  "metadata": {
    "colab": {
      "name": "IA_Ejercicio1_KevinWoge_1834672.ipynb",
      "provenance": [],
      "collapsed_sections": [],
      "authorship_tag": "ABX9TyMsZ8Tl7JRsE7S8qbzRkX1U",
      "include_colab_link": true
    },
    "kernelspec": {
      "name": "python3",
      "display_name": "Python 3"
    },
    "language_info": {
      "name": "python"
    }
  },
  "cells": [
    {
      "cell_type": "markdown",
      "metadata": {
        "id": "view-in-github",
        "colab_type": "text"
      },
      "source": [
        "<a href=\"https://colab.research.google.com/github/KevinWoge/InteligenciaArtificialFIME_IB/blob/main/IA_Ejercicio1_KevinWoge_1834672.ipynb\" target=\"_parent\"><img src=\"https://colab.research.google.com/assets/colab-badge.svg\" alt=\"Open In Colab\"/></a>"
      ]
    },
    {
      "cell_type": "markdown",
      "metadata": {
        "id": "eLJ--jWx9pnM"
      },
      "source": [
        "Actividad 2. Ejercicios Introducción Python.\n",
        "\n",
        "Kevin Woge Rivera - 1834672\n",
        "\n",
        "Hora: N4\n",
        "\n",
        "\n",
        "Ejercicio 1:\n",
        "Crear un programa que pregunte al usuario por su nombre, edad, una frase favorita y autor de la frase favorita. El programa deberá de imprimir un mensaje compuesto por el nombre y edad del usuario diciendo que su frase favorita es la que dió anteriormente y el autor de dicha frase es el nombre previamente dado. Aquí habrá que realizar una concatenación de variables. \n"
      ]
    },
    {
      "cell_type": "markdown",
      "metadata": {
        "id": "w4AsxPUQAcAF"
      },
      "source": [
        "1. Se le pide al usuario que ingrese su nombre usando la finción \"input\", el resultado será almacenado en la variable \"nom\"."
      ]
    },
    {
      "cell_type": "code",
      "metadata": {
        "colab": {
          "base_uri": "https://localhost:8080/"
        },
        "id": "YAOKkMf39lp0",
        "outputId": "81c99378-03a5-444f-f9b1-7b8118e38839"
      },
      "source": [
        "nom = input('Ingrese su nombre: ')"
      ],
      "execution_count": 5,
      "outputs": [
        {
          "name": "stdout",
          "output_type": "stream",
          "text": [
            "Ingrese su nombre: Kevin\n"
          ]
        }
      ]
    },
    {
      "cell_type": "markdown",
      "metadata": {
        "id": "z6r-zx7OAtkr"
      },
      "source": [
        "2. Se hace lo mismo que en el paso 1, pero ahora para pedir la edad."
      ]
    },
    {
      "cell_type": "code",
      "metadata": {
        "colab": {
          "base_uri": "https://localhost:8080/"
        },
        "id": "V7bd0T4MA1G5",
        "outputId": "e992a92e-5cdb-4aee-98af-b34be131ff4d"
      },
      "source": [
        "edad = input('Ingrese su edad: ')"
      ],
      "execution_count": 7,
      "outputs": [
        {
          "name": "stdout",
          "output_type": "stream",
          "text": [
            "Ingrese su edad: 24\n"
          ]
        }
      ]
    },
    {
      "cell_type": "markdown",
      "metadata": {
        "id": "3LiRd083BCli"
      },
      "source": [
        "3. Procedemos a pedir al usurio que ingrese su frase favorita."
      ]
    },
    {
      "cell_type": "code",
      "metadata": {
        "colab": {
          "base_uri": "https://localhost:8080/"
        },
        "id": "6f0H0_mfBM9U",
        "outputId": "57c91e6a-c835-4931-85b7-ddbb9af51b7e"
      },
      "source": [
        "frase = input('Ingrese su frase favorita: ')"
      ],
      "execution_count": 9,
      "outputs": [
        {
          "name": "stdout",
          "output_type": "stream",
          "text": [
            "Ingrese su frase favorita: Si he llegado a ver más lejos es porque me subí a los hombros de gigantes.\n"
          ]
        }
      ]
    },
    {
      "cell_type": "markdown",
      "metadata": {
        "id": "3nR6CnTmBrzF"
      },
      "source": [
        "4. Por ultimo, pedimos el autor de la frase."
      ]
    },
    {
      "cell_type": "code",
      "metadata": {
        "colab": {
          "base_uri": "https://localhost:8080/"
        },
        "id": "Sve6GfqgBxqj",
        "outputId": "167f92e9-8b75-437a-c81d-86aa7fe1e61d"
      },
      "source": [
        "autor = input('Ingrese el nombre del autor de la frase: ')"
      ],
      "execution_count": 11,
      "outputs": [
        {
          "name": "stdout",
          "output_type": "stream",
          "text": [
            "Ingrese el nombre del autor de la frase: Isaac Newton\n"
          ]
        }
      ]
    },
    {
      "cell_type": "markdown",
      "metadata": {
        "id": "Iq_pXQyXCOFS"
      },
      "source": [
        "5. Procedemos a imprimir los datos obtenidos haciendo una concatenación."
      ]
    },
    {
      "cell_type": "code",
      "metadata": {
        "colab": {
          "base_uri": "https://localhost:8080/"
        },
        "id": "hbmfzwwVh8G1",
        "outputId": "bf0b9967-a3fe-4bb6-d7c6-bfb7b7bfdb71"
      },
      "source": [
        "print('Nombre del Usuario: ' + nom + '\\n' + 'Edad del Usuario: ' + edad + '\\n' + 'Frase Favorita del Usuario: ' + '\"' + frase + '\"' + \\\n",
        "      '\\n' + 'Autor de la Frase: ' + autor)"
      ],
      "execution_count": 40,
      "outputs": [
        {
          "output_type": "stream",
          "name": "stdout",
          "text": [
            "Nombre del Usuario: Kevin\n",
            "Edad del Usuario: 24\n",
            "Frase Favorita del Usuario: \"Si he llegado a ver más lejos es porque me subí a los hombros de gigantes.\"\n",
            "Autor de la Frase: Isaac Newton\n"
          ]
        }
      ]
    },
    {
      "cell_type": "markdown",
      "metadata": {
        "id": "35Kqn_GssV1f"
      },
      "source": [
        "Ejercicio 2: Crear un programa que le pida al usuario capturar dos números enteros y dos números flotantes. Después, realizará la suma, resta, multiplicación y división, de ambos pares de números. Como resultado se deberán de obtener 8 valores. Imprimir todos estos reultados."
      ]
    },
    {
      "cell_type": "markdown",
      "metadata": {
        "id": "8mIjijJQsiFQ"
      },
      "source": [
        "1. Primero le pedimos al usuario que ingrese los números enteros mediante la función \"input\" y almacenandolos en las variables \"num1\" y \"num2\", respectivamente."
      ]
    },
    {
      "cell_type": "code",
      "metadata": {
        "colab": {
          "base_uri": "https://localhost:8080/"
        },
        "id": "-cmI3V2WscOf",
        "outputId": "d0408892-7f7c-4cbd-c2a2-e6bdecb0c351"
      },
      "source": [
        "num1 = input('Ingrese un número entero: ')\n",
        "num2 = input('Ingrese otro número entero: ')"
      ],
      "execution_count": 44,
      "outputs": [
        {
          "name": "stdout",
          "output_type": "stream",
          "text": [
            "Ingrese un número entero: 11\n",
            "Ingrese otro número entero: 97\n"
          ]
        }
      ]
    },
    {
      "cell_type": "markdown",
      "metadata": {
        "id": "wYBk-5zLtSzg"
      },
      "source": [
        "2. Procedemos a pedir los números flotantes almacenando en las variables \"nf1\" y \"nf2\", respectivamente."
      ]
    },
    {
      "cell_type": "code",
      "metadata": {
        "colab": {
          "base_uri": "https://localhost:8080/"
        },
        "id": "bnLseeKotwad",
        "outputId": "334743ea-7b19-46cf-a379-a59ca1bd4aeb"
      },
      "source": [
        "nf1 = input('Ingrese un número con valores decimales: ')\n",
        "nf2 = input('Ingrese otro número con valores decimales: ')"
      ],
      "execution_count": 16,
      "outputs": [
        {
          "name": "stdout",
          "output_type": "stream",
          "text": [
            "Ingrese un número con valores decimales: 11.11\n",
            "Ingrese otro número con valores decimales: 97.79\n"
          ]
        }
      ]
    },
    {
      "cell_type": "markdown",
      "metadata": {
        "id": "HB84vRfGueo3"
      },
      "source": [
        "3. Se relizan las operaciones aritméticas básicas para el primer par de números e imprimimos."
      ]
    },
    {
      "cell_type": "code",
      "metadata": {
        "colab": {
          "base_uri": "https://localhost:8080/"
        },
        "id": "N1d2a40-unFw",
        "outputId": "e3dc579d-791e-42ee-e18a-90e41f3e87b5"
      },
      "source": [
        "sum1 = int(num1) + int(num2)\n",
        "res1 = int(num1) - int(num2)\n",
        "mul1 = int(num1) * int(num2)\n",
        "div1 = int(num1) // int(num2) #División con resultado entero (redondeado).\n",
        "print ('Resultado de la Suma: ' + str(sum1) + '\\n' + 'Resultado de la Resta: ' + str(res1) + '\\n' + \\\n",
        "       'Resultado de la Multiplicación: ' + str(mul1) + '\\n' + 'Resultado de la División: ' + str(div1))"
      ],
      "execution_count": 45,
      "outputs": [
        {
          "output_type": "stream",
          "name": "stdout",
          "text": [
            "Resultado de la Suma: 108\n",
            "Resultado de la Resta: -86\n",
            "Resultado de la Multiplicación: 1067\n",
            "Resultado de la División: 0\n"
          ]
        }
      ]
    },
    {
      "cell_type": "markdown",
      "metadata": {
        "id": "-IrbnWbj07IL"
      },
      "source": [
        "4. Realizamos las operaciones aritméticas básicas para el segundo par de números e imprimimos."
      ]
    },
    {
      "cell_type": "code",
      "metadata": {
        "colab": {
          "base_uri": "https://localhost:8080/"
        },
        "id": "MUH_RS-DzB45",
        "outputId": "120f7a4b-0b9b-4dea-d8ca-4486c5769666"
      },
      "source": [
        "sum2 = float(nf1) + float(nf2)\n",
        "res2 = float(nf1) - float(nf2)\n",
        "mul2 = float(nf1) * float(nf2)\n",
        "div2 = float(nf1) / float(nf2) #División con resultado flotante (no redondeado).\n",
        "print ('Resultado de la Suma: ' + str(sum2) + '\\n' + 'Resultado de la Resta: ' + str(res2) + '\\n' + \\\n",
        "       'Resultado de la Multiplicación: ' + str(mul2) + '\\n' + 'Resultado de la División: ' + str(div2))\n"
      ],
      "execution_count": 43,
      "outputs": [
        {
          "output_type": "stream",
          "name": "stdout",
          "text": [
            "Resultado de la Suma: 108.9\n",
            "Resultado de la Resta: -86.68\n",
            "Resultado de la Multiplicación: 1086.4469\n",
            "Resultado de la División: 0.11361079865016871\n"
          ]
        }
      ]
    },
    {
      "cell_type": "markdown",
      "metadata": {
        "id": "8YS8Ujic2UER"
      },
      "source": [
        "Ejercicio 3: Crear un programa que evalúe dos expresiones lógicas con `and`, dos con `or` y dos con `not`. Cada expresión deberá hacer uso de operadores de comparación. "
      ]
    },
    {
      "cell_type": "markdown",
      "metadata": {
        "id": "tHywZGjBKTD2"
      },
      "source": [
        "1. Primero evaluaremos con \"and\" las siguientes variables."
      ]
    },
    {
      "cell_type": "code",
      "metadata": {
        "id": "5LtdnlxuKgQn"
      },
      "source": [
        "a = 2\n",
        "b = 3\n",
        "c = 7"
      ],
      "execution_count": 48,
      "outputs": []
    },
    {
      "cell_type": "markdown",
      "metadata": {
        "id": "ecui3CGuLRTX"
      },
      "source": [
        "2. Después procedemos a evaluar las siguientes expresiones."
      ]
    },
    {
      "cell_type": "code",
      "metadata": {
        "colab": {
          "base_uri": "https://localhost:8080/"
        },
        "id": "9TRvbcL9LWRG",
        "outputId": "6395ff04-4d99-4816-d3ac-9bc15be31a7f"
      },
      "source": [
        "a1 = a != c and b > a\n",
        "a2 = a == c and b > a\n",
        "print(a1, a2)\n"
      ],
      "execution_count": 47,
      "outputs": [
        {
          "output_type": "stream",
          "name": "stdout",
          "text": [
            "True False\n"
          ]
        }
      ]
    },
    {
      "cell_type": "markdown",
      "metadata": {
        "id": "THAQ55TIMQGX"
      },
      "source": [
        "3. Evaluamos las mismas variables para \"or\"."
      ]
    },
    {
      "cell_type": "code",
      "metadata": {
        "colab": {
          "base_uri": "https://localhost:8080/"
        },
        "id": "HYApZEgTMcwv",
        "outputId": "23031b79-3f0c-47fd-b7cf-d648275b5c8d"
      },
      "source": [
        "b1 = b != c or a == c\n",
        "b2 = c < a or b > c\n",
        "print (b1, b2)"
      ],
      "execution_count": 49,
      "outputs": [
        {
          "output_type": "stream",
          "name": "stdout",
          "text": [
            "True False\n"
          ]
        }
      ]
    },
    {
      "cell_type": "markdown",
      "metadata": {
        "id": "CVl7r8iZM7o-"
      },
      "source": [
        "4. Por último, evaluamos las mismas variables pero ahora para \"not\"."
      ]
    },
    {
      "cell_type": "code",
      "metadata": {
        "colab": {
          "base_uri": "https://localhost:8080/"
        },
        "id": "DGhfGHx9NIRo",
        "outputId": "efdb6e1c-ee86-47f3-e572-630ba9c7b311"
      },
      "source": [
        "c1 = not b2\n",
        "c2 = not a1\n",
        "print(c1, c2)\n"
      ],
      "execution_count": 53,
      "outputs": [
        {
          "output_type": "stream",
          "name": "stdout",
          "text": [
            "True False\n"
          ]
        }
      ]
    }
  ]
}